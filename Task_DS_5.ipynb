{
 "cells": [
  {
   "cell_type": "code",
   "execution_count": 2,
   "id": "1cc10c81-da9c-4f1b-9bcb-32d96554fb1e",
   "metadata": {},
   "outputs": [],
   "source": [
    "import pandas as pd\n",
    "import numpy as np\n",
    "import matplotlib.pyplot as plt\n",
    "import seaborn as sns"
   ]
  },
  {
   "cell_type": "code",
   "execution_count": 3,
   "id": "60e6a34e-acf7-46e7-9940-ef9f89ae4d17",
   "metadata": {},
   "outputs": [],
   "source": [
    "df_accident = pd.read_csv(\"US_Accidents_March23.csv\",delimiter=',')"
   ]
  },
  {
   "cell_type": "code",
   "execution_count": 4,
   "id": "7064232f-dcd1-4304-868c-619ef9dd920f",
   "metadata": {
    "scrolled": true
   },
   "outputs": [
    {
     "data": {
      "text/html": [
       "<div>\n",
       "<style scoped>\n",
       "    .dataframe tbody tr th:only-of-type {\n",
       "        vertical-align: middle;\n",
       "    }\n",
       "\n",
       "    .dataframe tbody tr th {\n",
       "        vertical-align: top;\n",
       "    }\n",
       "\n",
       "    .dataframe thead th {\n",
       "        text-align: right;\n",
       "    }\n",
       "</style>\n",
       "<table border=\"1\" class=\"dataframe\">\n",
       "  <thead>\n",
       "    <tr style=\"text-align: right;\">\n",
       "      <th></th>\n",
       "      <th>ID</th>\n",
       "      <th>Source</th>\n",
       "      <th>Severity</th>\n",
       "      <th>Start_Time</th>\n",
       "      <th>End_Time</th>\n",
       "      <th>Start_Lat</th>\n",
       "      <th>Start_Lng</th>\n",
       "      <th>End_Lat</th>\n",
       "      <th>End_Lng</th>\n",
       "      <th>Distance(mi)</th>\n",
       "      <th>...</th>\n",
       "      <th>Roundabout</th>\n",
       "      <th>Station</th>\n",
       "      <th>Stop</th>\n",
       "      <th>Traffic_Calming</th>\n",
       "      <th>Traffic_Signal</th>\n",
       "      <th>Turning_Loop</th>\n",
       "      <th>Sunrise_Sunset</th>\n",
       "      <th>Civil_Twilight</th>\n",
       "      <th>Nautical_Twilight</th>\n",
       "      <th>Astronomical_Twilight</th>\n",
       "    </tr>\n",
       "  </thead>\n",
       "  <tbody>\n",
       "    <tr>\n",
       "      <th>0</th>\n",
       "      <td>A-1</td>\n",
       "      <td>Source2</td>\n",
       "      <td>3</td>\n",
       "      <td>2016-02-08 05:46:00</td>\n",
       "      <td>2016-02-08 11:00:00</td>\n",
       "      <td>39.865147</td>\n",
       "      <td>-84.058723</td>\n",
       "      <td>NaN</td>\n",
       "      <td>NaN</td>\n",
       "      <td>0.01</td>\n",
       "      <td>...</td>\n",
       "      <td>False</td>\n",
       "      <td>False</td>\n",
       "      <td>False</td>\n",
       "      <td>False</td>\n",
       "      <td>False</td>\n",
       "      <td>False</td>\n",
       "      <td>Night</td>\n",
       "      <td>Night</td>\n",
       "      <td>Night</td>\n",
       "      <td>Night</td>\n",
       "    </tr>\n",
       "    <tr>\n",
       "      <th>1</th>\n",
       "      <td>A-2</td>\n",
       "      <td>Source2</td>\n",
       "      <td>2</td>\n",
       "      <td>2016-02-08 06:07:59</td>\n",
       "      <td>2016-02-08 06:37:59</td>\n",
       "      <td>39.928059</td>\n",
       "      <td>-82.831184</td>\n",
       "      <td>NaN</td>\n",
       "      <td>NaN</td>\n",
       "      <td>0.01</td>\n",
       "      <td>...</td>\n",
       "      <td>False</td>\n",
       "      <td>False</td>\n",
       "      <td>False</td>\n",
       "      <td>False</td>\n",
       "      <td>False</td>\n",
       "      <td>False</td>\n",
       "      <td>Night</td>\n",
       "      <td>Night</td>\n",
       "      <td>Night</td>\n",
       "      <td>Day</td>\n",
       "    </tr>\n",
       "    <tr>\n",
       "      <th>2</th>\n",
       "      <td>A-3</td>\n",
       "      <td>Source2</td>\n",
       "      <td>2</td>\n",
       "      <td>2016-02-08 06:49:27</td>\n",
       "      <td>2016-02-08 07:19:27</td>\n",
       "      <td>39.063148</td>\n",
       "      <td>-84.032608</td>\n",
       "      <td>NaN</td>\n",
       "      <td>NaN</td>\n",
       "      <td>0.01</td>\n",
       "      <td>...</td>\n",
       "      <td>False</td>\n",
       "      <td>False</td>\n",
       "      <td>False</td>\n",
       "      <td>False</td>\n",
       "      <td>True</td>\n",
       "      <td>False</td>\n",
       "      <td>Night</td>\n",
       "      <td>Night</td>\n",
       "      <td>Day</td>\n",
       "      <td>Day</td>\n",
       "    </tr>\n",
       "    <tr>\n",
       "      <th>3</th>\n",
       "      <td>A-4</td>\n",
       "      <td>Source2</td>\n",
       "      <td>3</td>\n",
       "      <td>2016-02-08 07:23:34</td>\n",
       "      <td>2016-02-08 07:53:34</td>\n",
       "      <td>39.747753</td>\n",
       "      <td>-84.205582</td>\n",
       "      <td>NaN</td>\n",
       "      <td>NaN</td>\n",
       "      <td>0.01</td>\n",
       "      <td>...</td>\n",
       "      <td>False</td>\n",
       "      <td>False</td>\n",
       "      <td>False</td>\n",
       "      <td>False</td>\n",
       "      <td>False</td>\n",
       "      <td>False</td>\n",
       "      <td>Night</td>\n",
       "      <td>Day</td>\n",
       "      <td>Day</td>\n",
       "      <td>Day</td>\n",
       "    </tr>\n",
       "    <tr>\n",
       "      <th>4</th>\n",
       "      <td>A-5</td>\n",
       "      <td>Source2</td>\n",
       "      <td>2</td>\n",
       "      <td>2016-02-08 07:39:07</td>\n",
       "      <td>2016-02-08 08:09:07</td>\n",
       "      <td>39.627781</td>\n",
       "      <td>-84.188354</td>\n",
       "      <td>NaN</td>\n",
       "      <td>NaN</td>\n",
       "      <td>0.01</td>\n",
       "      <td>...</td>\n",
       "      <td>False</td>\n",
       "      <td>False</td>\n",
       "      <td>False</td>\n",
       "      <td>False</td>\n",
       "      <td>True</td>\n",
       "      <td>False</td>\n",
       "      <td>Day</td>\n",
       "      <td>Day</td>\n",
       "      <td>Day</td>\n",
       "      <td>Day</td>\n",
       "    </tr>\n",
       "  </tbody>\n",
       "</table>\n",
       "<p>5 rows × 46 columns</p>\n",
       "</div>"
      ],
      "text/plain": [
       "    ID   Source  Severity           Start_Time             End_Time  \\\n",
       "0  A-1  Source2         3  2016-02-08 05:46:00  2016-02-08 11:00:00   \n",
       "1  A-2  Source2         2  2016-02-08 06:07:59  2016-02-08 06:37:59   \n",
       "2  A-3  Source2         2  2016-02-08 06:49:27  2016-02-08 07:19:27   \n",
       "3  A-4  Source2         3  2016-02-08 07:23:34  2016-02-08 07:53:34   \n",
       "4  A-5  Source2         2  2016-02-08 07:39:07  2016-02-08 08:09:07   \n",
       "\n",
       "   Start_Lat  Start_Lng  End_Lat  End_Lng  Distance(mi)  ... Roundabout  \\\n",
       "0  39.865147 -84.058723      NaN      NaN          0.01  ...      False   \n",
       "1  39.928059 -82.831184      NaN      NaN          0.01  ...      False   \n",
       "2  39.063148 -84.032608      NaN      NaN          0.01  ...      False   \n",
       "3  39.747753 -84.205582      NaN      NaN          0.01  ...      False   \n",
       "4  39.627781 -84.188354      NaN      NaN          0.01  ...      False   \n",
       "\n",
       "  Station   Stop Traffic_Calming Traffic_Signal Turning_Loop Sunrise_Sunset  \\\n",
       "0   False  False           False          False        False          Night   \n",
       "1   False  False           False          False        False          Night   \n",
       "2   False  False           False           True        False          Night   \n",
       "3   False  False           False          False        False          Night   \n",
       "4   False  False           False           True        False            Day   \n",
       "\n",
       "  Civil_Twilight Nautical_Twilight Astronomical_Twilight  \n",
       "0          Night             Night                 Night  \n",
       "1          Night             Night                   Day  \n",
       "2          Night               Day                   Day  \n",
       "3            Day               Day                   Day  \n",
       "4            Day               Day                   Day  \n",
       "\n",
       "[5 rows x 46 columns]"
      ]
     },
     "execution_count": 4,
     "metadata": {},
     "output_type": "execute_result"
    }
   ],
   "source": [
    "df_accident.head()"
   ]
  },
  {
   "cell_type": "code",
   "execution_count": 5,
   "id": "a8e67925-5f55-4a04-acbe-f2a233a391f9",
   "metadata": {},
   "outputs": [
    {
     "data": {
      "text/plain": [
       "(7728394, 46)"
      ]
     },
     "execution_count": 5,
     "metadata": {},
     "output_type": "execute_result"
    }
   ],
   "source": [
    "df_accident.shape"
   ]
  },
  {
   "cell_type": "markdown",
   "id": "f9b26d58-e3f0-4094-886a-d04c9bae7ec4",
   "metadata": {},
   "source": [
    "<h1 style = 'color:darkslateblue'>Exploration</h1>"
   ]
  },
  {
   "cell_type": "code",
   "execution_count": 7,
   "id": "c4f57325-00c2-45e6-bff9-5d104b918fbc",
   "metadata": {},
   "outputs": [
    {
     "name": "stdout",
     "output_type": "stream",
     "text": [
      "<class 'pandas.core.frame.DataFrame'>\n",
      "RangeIndex: 7728394 entries, 0 to 7728393\n",
      "Data columns (total 46 columns):\n",
      " #   Column                 Dtype  \n",
      "---  ------                 -----  \n",
      " 0   ID                     object \n",
      " 1   Source                 object \n",
      " 2   Severity               int64  \n",
      " 3   Start_Time             object \n",
      " 4   End_Time               object \n",
      " 5   Start_Lat              float64\n",
      " 6   Start_Lng              float64\n",
      " 7   End_Lat                float64\n",
      " 8   End_Lng                float64\n",
      " 9   Distance(mi)           float64\n",
      " 10  Description            object \n",
      " 11  Street                 object \n",
      " 12  City                   object \n",
      " 13  County                 object \n",
      " 14  State                  object \n",
      " 15  Zipcode                object \n",
      " 16  Country                object \n",
      " 17  Timezone               object \n",
      " 18  Airport_Code           object \n",
      " 19  Weather_Timestamp      object \n",
      " 20  Temperature(F)         float64\n",
      " 21  Wind_Chill(F)          float64\n",
      " 22  Humidity(%)            float64\n",
      " 23  Pressure(in)           float64\n",
      " 24  Visibility(mi)         float64\n",
      " 25  Wind_Direction         object \n",
      " 26  Wind_Speed(mph)        float64\n",
      " 27  Precipitation(in)      float64\n",
      " 28  Weather_Condition      object \n",
      " 29  Amenity                bool   \n",
      " 30  Bump                   bool   \n",
      " 31  Crossing               bool   \n",
      " 32  Give_Way               bool   \n",
      " 33  Junction               bool   \n",
      " 34  No_Exit                bool   \n",
      " 35  Railway                bool   \n",
      " 36  Roundabout             bool   \n",
      " 37  Station                bool   \n",
      " 38  Stop                   bool   \n",
      " 39  Traffic_Calming        bool   \n",
      " 40  Traffic_Signal         bool   \n",
      " 41  Turning_Loop           bool   \n",
      " 42  Sunrise_Sunset         object \n",
      " 43  Civil_Twilight         object \n",
      " 44  Nautical_Twilight      object \n",
      " 45  Astronomical_Twilight  object \n",
      "dtypes: bool(13), float64(12), int64(1), object(20)\n",
      "memory usage: 2.0+ GB\n"
     ]
    }
   ],
   "source": [
    "df_accident.info()"
   ]
  },
  {
   "cell_type": "markdown",
   "id": "e4c56299-46bc-4ab4-a234-33cd1b849b53",
   "metadata": {},
   "source": [
    "<h1 style = 'color:darkslateblue'>Data cleaning</h1>"
   ]
  },
  {
   "cell_type": "code",
   "execution_count": 8,
   "id": "a56cfabf-fd49-4b48-8fc8-43249114765f",
   "metadata": {},
   "outputs": [],
   "source": [
    "df_accident = df_accident.drop_duplicates()"
   ]
  },
  {
   "cell_type": "code",
   "execution_count": 9,
   "id": "864a961c-2111-4ac2-b752-b9400b686f56",
   "metadata": {},
   "outputs": [],
   "source": [
    "df_accident = df_accident.drop(['Country','Street','State','City'],axis = 1)"
   ]
  },
  {
   "cell_type": "code",
   "execution_count": 10,
   "id": "77ba20c7-ef66-4a57-bfe8-9c0f2296ba80",
   "metadata": {},
   "outputs": [],
   "source": [
    "df_accident = df_accident.drop(['Railway','Airport_Code','Zipcode','ID','Source','Description','Weather_Timestamp','Wind_Chill(F)','Pressure(in)','Amenity','Bump','Crossing','Give_Way','Junction','No_Exit','Roundabout','Station','Stop','Traffic_Calming','Turning_Loop'],axis = 1)"
   ]
  },
  {
   "cell_type": "code",
   "execution_count": 11,
   "id": "73a533a8-9033-4d8b-b0f7-59fa7362ff65",
   "metadata": {},
   "outputs": [
    {
     "data": {
      "text/plain": [
       "(7728394, 22)"
      ]
     },
     "execution_count": 11,
     "metadata": {},
     "output_type": "execute_result"
    }
   ],
   "source": [
    "df_accident.shape"
   ]
  },
  {
   "cell_type": "code",
   "execution_count": 26,
   "id": "50b7953b-4c42-4cb3-9215-b65936dd0e29",
   "metadata": {},
   "outputs": [
    {
     "data": {
      "text/plain": [
       "End_Lat                  3402762\n",
       "End_Lng                  3402762\n",
       "Precipitation(in)        2203586\n",
       "Wind_Speed(mph)           571233\n",
       "Visibility(mi)            177098\n",
       "Wind_Direction            175206\n",
       "Humidity(%)               174144\n",
       "Weather_Condition         173459\n",
       "Temperature(F)            163853\n",
       "Sunrise_Sunset             23246\n",
       "Civil_Twilight             23246\n",
       "Nautical_Twilight          23246\n",
       "Astronomical_Twilight      23246\n",
       "Timezone                    7808\n",
       "dtype: int64"
      ]
     },
     "execution_count": 26,
     "metadata": {},
     "output_type": "execute_result"
    }
   ],
   "source": [
    "missing = df_accident.isnull().sum()\n",
    "missing[missing > 0].sort_values(ascending=False)"
   ]
  },
  {
   "cell_type": "code",
   "execution_count": 37,
   "id": "2a908632-24f5-4f14-8ee5-5de38871c07b",
   "metadata": {},
   "outputs": [],
   "source": [
    "df_accident = df_accident.copy()  # Optional, ensures you're working on a copy\n",
    "\n",
    "df_accident['Precipitation(in)'] = df_accident['Precipitation(in)'].fillna(0)\n",
    "df_accident['Wind_Speed(mph)'] = df_accident['Wind_Speed(mph)'].fillna(df_accident['Wind_Speed(mph)'].median())\n",
    "df_accident['Visibility(mi)'] = df_accident['Visibility(mi)'].fillna(df_accident['Visibility(mi)'].median())\n"
   ]
  },
  {
   "cell_type": "code",
   "execution_count": 53,
   "id": "40480a97-384e-48c3-8a3b-d4793415185c",
   "metadata": {},
   "outputs": [],
   "source": [
    "df_accident['Start_Time'] = pd.to_datetime(df_accident['Start_Time'].str.split('.').str[0])\n",
    "df_accident['End_Time'] = pd.to_datetime(df_accident['End_Time'].str.split('.').str[0])\n"
   ]
  },
  {
   "cell_type": "code",
   "execution_count": 70,
   "id": "cfdf7472-7a08-4f43-866c-a43b0177f05a",
   "metadata": {},
   "outputs": [
    {
     "data": {
      "text/plain": [
       "Severity                       0\n",
       "Start_Time                     0\n",
       "End_Time                       0\n",
       "Start_Lat                      0\n",
       "Start_Lng                      0\n",
       "End_Lat                  3402762\n",
       "End_Lng                  3402762\n",
       "Distance(mi)                   0\n",
       "County                         0\n",
       "Timezone                    7808\n",
       "Temperature(F)            163853\n",
       "Humidity(%)               174144\n",
       "Visibility(mi)                 0\n",
       "Wind_Direction            175206\n",
       "Wind_Speed(mph)                0\n",
       "Precipitation(in)              0\n",
       "Weather_Condition              0\n",
       "Traffic_Signal                 0\n",
       "Sunrise_Sunset             23246\n",
       "Civil_Twilight             23246\n",
       "Nautical_Twilight          23246\n",
       "Astronomical_Twilight      23246\n",
       "dtype: int64"
      ]
     },
     "execution_count": 70,
     "metadata": {},
     "output_type": "execute_result"
    }
   ],
   "source": [
    "df_accident.isnull().sum()"
   ]
  },
  {
   "cell_type": "code",
   "execution_count": 75,
   "id": "3707fd2d-355b-4a6e-9a62-551cb151cc78",
   "metadata": {},
   "outputs": [],
   "source": [
    "df_accident['Temperature(F)'] = df_accident['Temperature(F)'].fillna(df_accident['Temperature(F)'].mean())"
   ]
  },
  {
   "cell_type": "code",
   "execution_count": 81,
   "id": "ef3f733a-da2c-43a6-8dbc-2f7c97ab11c6",
   "metadata": {},
   "outputs": [],
   "source": [
    "df_accident.drop(['Sunrise_Sunset', 'Civil_Twilight', 'Nautical_Twilight', 'Astronomical_Twilight'], axis=1, inplace=True)"
   ]
  },
  {
   "cell_type": "code",
   "execution_count": 97,
   "id": "c2846504-6c26-4d30-a839-1dd28f7a9c77",
   "metadata": {},
   "outputs": [
    {
     "data": {
      "text/plain": [
       "Severity                  0\n",
       "Start_Time                0\n",
       "End_Time                  0\n",
       "Start_Lat                 0\n",
       "Start_Lng                 0\n",
       "Distance(mi)              0\n",
       "County                    0\n",
       "Timezone               7808\n",
       "Temperature(F)            0\n",
       "Humidity(%)          174144\n",
       "Visibility(mi)            0\n",
       "Wind_Direction       175206\n",
       "Wind_Speed(mph)           0\n",
       "Precipitation(in)         0\n",
       "Weather_Condition         0\n",
       "Traffic_Signal            0\n",
       "dtype: int64"
      ]
     },
     "execution_count": 97,
     "metadata": {},
     "output_type": "execute_result"
    }
   ],
   "source": [
    "df_accident.isnull().sum()"
   ]
  },
  {
   "cell_type": "code",
   "execution_count": 113,
   "id": "dc3ec76a-cb3b-4c1e-b685-3c3c5d1e96b2",
   "metadata": {},
   "outputs": [],
   "source": [
    "df_accident['Humidity(%)'] = df_accident['Humidity(%)'].fillna(df_accident['Humidity(%)'].median())"
   ]
  },
  {
   "cell_type": "code",
   "execution_count": 125,
   "id": "27cb62bf-b086-4fda-899e-2111452081da",
   "metadata": {},
   "outputs": [
    {
     "data": {
      "text/plain": [
       "array(['Calm', 'SW', 'SSW', 'WSW', 'WNW', 'NW', 'West', 'NNW', 'NNE',\n",
       "       'South', 'North', 'Variable', 'SE', 'SSE', 'ESE', 'East', 'NE',\n",
       "       'ENE', 'E', 'W', nan, 'S', 'VAR', 'CALM', 'N'], dtype=object)"
      ]
     },
     "execution_count": 125,
     "metadata": {},
     "output_type": "execute_result"
    }
   ],
   "source": [
    "df_accident['Wind_Direction'].unique()"
   ]
  },
  {
   "cell_type": "code",
   "execution_count": 133,
   "id": "1455429a-dc14-48df-9cf1-fd2af63bbc86",
   "metadata": {},
   "outputs": [],
   "source": [
    "df_accident['Wind_Direction'] = df_accident['Wind_Direction'].fillna(df_accident['Wind_Direction'].mode()[0])\n",
    "df_accident['Timezone'] = df_accident['Timezone'].fillna(df_accident['Timezone'].mode()[0])\n"
   ]
  },
  {
   "cell_type": "code",
   "execution_count": 137,
   "id": "245fe131-9a4e-461a-a1c5-8a2510f88384",
   "metadata": {},
   "outputs": [
    {
     "data": {
      "text/plain": [
       "Severity             0\n",
       "Start_Time           0\n",
       "End_Time             0\n",
       "Start_Lat            0\n",
       "Start_Lng            0\n",
       "Distance(mi)         0\n",
       "County               0\n",
       "Timezone             0\n",
       "Temperature(F)       0\n",
       "Humidity(%)          0\n",
       "Visibility(mi)       0\n",
       "Wind_Direction       0\n",
       "Wind_Speed(mph)      0\n",
       "Precipitation(in)    0\n",
       "Weather_Condition    0\n",
       "Traffic_Signal       0\n",
       "dtype: int64"
      ]
     },
     "execution_count": 137,
     "metadata": {},
     "output_type": "execute_result"
    }
   ],
   "source": [
    "df_accident.isnull().sum()"
   ]
  },
  {
   "cell_type": "code",
   "execution_count": 163,
   "id": "06945dc9-b026-4f84-b04a-3a1845c003cc",
   "metadata": {},
   "outputs": [
    {
     "data": {
      "text/plain": [
       "(7728394, 20)"
      ]
     },
     "execution_count": 163,
     "metadata": {},
     "output_type": "execute_result"
    }
   ],
   "source": [
    "df_accident.shape"
   ]
  },
  {
   "cell_type": "markdown",
   "id": "05dc388c-b0dd-4876-83db-d82a5a0e5ba9",
   "metadata": {},
   "source": [
    "<h1 style = 'color:darkslateblue'>Visualization</h1>"
   ]
  },
  {
   "cell_type": "code",
   "execution_count": 141,
   "id": "ae519d4a-e6fb-449a-ac00-7bdf2eabf334",
   "metadata": {},
   "outputs": [
    {
     "data": {
      "text/html": [
       "<div>\n",
       "<style scoped>\n",
       "    .dataframe tbody tr th:only-of-type {\n",
       "        vertical-align: middle;\n",
       "    }\n",
       "\n",
       "    .dataframe tbody tr th {\n",
       "        vertical-align: top;\n",
       "    }\n",
       "\n",
       "    .dataframe thead th {\n",
       "        text-align: right;\n",
       "    }\n",
       "</style>\n",
       "<table border=\"1\" class=\"dataframe\">\n",
       "  <thead>\n",
       "    <tr style=\"text-align: right;\">\n",
       "      <th></th>\n",
       "      <th>Severity</th>\n",
       "      <th>Start_Time</th>\n",
       "      <th>End_Time</th>\n",
       "      <th>Start_Lat</th>\n",
       "      <th>Start_Lng</th>\n",
       "      <th>Distance(mi)</th>\n",
       "      <th>County</th>\n",
       "      <th>Timezone</th>\n",
       "      <th>Temperature(F)</th>\n",
       "      <th>Humidity(%)</th>\n",
       "      <th>Visibility(mi)</th>\n",
       "      <th>Wind_Direction</th>\n",
       "      <th>Wind_Speed(mph)</th>\n",
       "      <th>Precipitation(in)</th>\n",
       "      <th>Weather_Condition</th>\n",
       "      <th>Traffic_Signal</th>\n",
       "    </tr>\n",
       "  </thead>\n",
       "  <tbody>\n",
       "    <tr>\n",
       "      <th>0</th>\n",
       "      <td>3</td>\n",
       "      <td>2016-02-08 05:46:00</td>\n",
       "      <td>2016-02-08 11:00:00</td>\n",
       "      <td>39.865147</td>\n",
       "      <td>-84.058723</td>\n",
       "      <td>0.01</td>\n",
       "      <td>Montgomery</td>\n",
       "      <td>US/Eastern</td>\n",
       "      <td>36.9</td>\n",
       "      <td>91.0</td>\n",
       "      <td>10.0</td>\n",
       "      <td>Calm</td>\n",
       "      <td>7.0</td>\n",
       "      <td>0.02</td>\n",
       "      <td>Light Rain</td>\n",
       "      <td>False</td>\n",
       "    </tr>\n",
       "    <tr>\n",
       "      <th>1</th>\n",
       "      <td>2</td>\n",
       "      <td>2016-02-08 06:07:59</td>\n",
       "      <td>2016-02-08 06:37:59</td>\n",
       "      <td>39.928059</td>\n",
       "      <td>-82.831184</td>\n",
       "      <td>0.01</td>\n",
       "      <td>Franklin</td>\n",
       "      <td>US/Eastern</td>\n",
       "      <td>37.9</td>\n",
       "      <td>100.0</td>\n",
       "      <td>10.0</td>\n",
       "      <td>Calm</td>\n",
       "      <td>7.0</td>\n",
       "      <td>0.00</td>\n",
       "      <td>Light Rain</td>\n",
       "      <td>False</td>\n",
       "    </tr>\n",
       "    <tr>\n",
       "      <th>2</th>\n",
       "      <td>2</td>\n",
       "      <td>2016-02-08 06:49:27</td>\n",
       "      <td>2016-02-08 07:19:27</td>\n",
       "      <td>39.063148</td>\n",
       "      <td>-84.032608</td>\n",
       "      <td>0.01</td>\n",
       "      <td>Clermont</td>\n",
       "      <td>US/Eastern</td>\n",
       "      <td>36.0</td>\n",
       "      <td>100.0</td>\n",
       "      <td>10.0</td>\n",
       "      <td>SW</td>\n",
       "      <td>3.5</td>\n",
       "      <td>0.00</td>\n",
       "      <td>Overcast</td>\n",
       "      <td>True</td>\n",
       "    </tr>\n",
       "    <tr>\n",
       "      <th>3</th>\n",
       "      <td>3</td>\n",
       "      <td>2016-02-08 07:23:34</td>\n",
       "      <td>2016-02-08 07:53:34</td>\n",
       "      <td>39.747753</td>\n",
       "      <td>-84.205582</td>\n",
       "      <td>0.01</td>\n",
       "      <td>Montgomery</td>\n",
       "      <td>US/Eastern</td>\n",
       "      <td>35.1</td>\n",
       "      <td>96.0</td>\n",
       "      <td>9.0</td>\n",
       "      <td>SW</td>\n",
       "      <td>4.6</td>\n",
       "      <td>0.00</td>\n",
       "      <td>Mostly Cloudy</td>\n",
       "      <td>False</td>\n",
       "    </tr>\n",
       "    <tr>\n",
       "      <th>4</th>\n",
       "      <td>2</td>\n",
       "      <td>2016-02-08 07:39:07</td>\n",
       "      <td>2016-02-08 08:09:07</td>\n",
       "      <td>39.627781</td>\n",
       "      <td>-84.188354</td>\n",
       "      <td>0.01</td>\n",
       "      <td>Montgomery</td>\n",
       "      <td>US/Eastern</td>\n",
       "      <td>36.0</td>\n",
       "      <td>89.0</td>\n",
       "      <td>6.0</td>\n",
       "      <td>SW</td>\n",
       "      <td>3.5</td>\n",
       "      <td>0.00</td>\n",
       "      <td>Mostly Cloudy</td>\n",
       "      <td>True</td>\n",
       "    </tr>\n",
       "  </tbody>\n",
       "</table>\n",
       "</div>"
      ],
      "text/plain": [
       "   Severity          Start_Time            End_Time  Start_Lat  Start_Lng  \\\n",
       "0         3 2016-02-08 05:46:00 2016-02-08 11:00:00  39.865147 -84.058723   \n",
       "1         2 2016-02-08 06:07:59 2016-02-08 06:37:59  39.928059 -82.831184   \n",
       "2         2 2016-02-08 06:49:27 2016-02-08 07:19:27  39.063148 -84.032608   \n",
       "3         3 2016-02-08 07:23:34 2016-02-08 07:53:34  39.747753 -84.205582   \n",
       "4         2 2016-02-08 07:39:07 2016-02-08 08:09:07  39.627781 -84.188354   \n",
       "\n",
       "   Distance(mi)      County    Timezone  Temperature(F)  Humidity(%)  \\\n",
       "0          0.01  Montgomery  US/Eastern            36.9         91.0   \n",
       "1          0.01    Franklin  US/Eastern            37.9        100.0   \n",
       "2          0.01    Clermont  US/Eastern            36.0        100.0   \n",
       "3          0.01  Montgomery  US/Eastern            35.1         96.0   \n",
       "4          0.01  Montgomery  US/Eastern            36.0         89.0   \n",
       "\n",
       "   Visibility(mi) Wind_Direction  Wind_Speed(mph)  Precipitation(in)  \\\n",
       "0            10.0           Calm              7.0               0.02   \n",
       "1            10.0           Calm              7.0               0.00   \n",
       "2            10.0             SW              3.5               0.00   \n",
       "3             9.0             SW              4.6               0.00   \n",
       "4             6.0             SW              3.5               0.00   \n",
       "\n",
       "  Weather_Condition  Traffic_Signal  \n",
       "0        Light Rain           False  \n",
       "1        Light Rain           False  \n",
       "2          Overcast            True  \n",
       "3     Mostly Cloudy           False  \n",
       "4     Mostly Cloudy            True  "
      ]
     },
     "execution_count": 141,
     "metadata": {},
     "output_type": "execute_result"
    }
   ],
   "source": [
    "df_accident.head()"
   ]
  },
  {
   "cell_type": "markdown",
   "id": "8f681b59-628b-464e-b514-2cc531166cf6",
   "metadata": {},
   "source": [
    "<h2 style ='color:red'>No. of Accidents over time </h2>"
   ]
  },
  {
   "cell_type": "code",
   "execution_count": 169,
   "id": "69ed5123-70d0-4c7f-b0eb-8d83f6829661",
   "metadata": {},
   "outputs": [
    {
     "data": {
      "image/png": "[encoded data removed]",
      "text/plain": [
       "<Figure size 1000x500 with 1 Axes>"
      ]
     },
     "metadata": {},
     "output_type": "display_data"
    }
   ],
   "source": [
    "# Extract time-related features\n",
    "df_accident['Year'] = df_accident['Start_Time'].dt.year\n",
    "df_accident['Month'] = df_accident['Start_Time'].dt.month\n",
    "df_accident['Hour'] = df_accident['Start_Time'].dt.hour\n",
    "df_accident['Weekday'] = df_accident['Start_Time'].dt.day_name()\n",
    "\n",
    "# Accidents per year\n",
    "plt.figure(figsize=(10,5))\n",
    "sns.countplot(data=df_accident, x='Year', palette='magma',hue = 'Year',legend=False)\n",
    "plt.title('Number of Accidents per Year')\n",
    "plt.xticks(rotation=45)\n",
    "plt.show()\n"
   ]
  },
  {
   "cell_type": "markdown",
   "id": "0f64ecba-68ef-4c0a-8ad6-b9017b70595a",
   "metadata": {},
   "source": [
    "<h2 style ='color:red'>Accidents by time of day(hours)</h2>"
   ]
  },
  {
   "cell_type": "code",
   "execution_count": 155,
   "id": "e32ce755-a0ff-4a02-b12e-1c5c7bfb6b1b",
   "metadata": {},
   "outputs": [
    {
     "data": {
      "image/png": "[encoded data removed]",
      "text/plain": [
       "<Figure size 1000x500 with 1 Axes>"
      ]
     },
     "metadata": {},
     "output_type": "display_data"
    }
   ],
   "source": [
    "plt.figure(figsize=(10,5))\n",
    "sns.countplot(data=df_accident, x='Hour', palette='coolwarm',hue = 'Hour',legend = False)\n",
    "plt.title('Accidents by Hour of Day')\n",
    "plt.xlabel('Hour of Day')\n",
    "plt.ylabel('Number of Accidents')\n",
    "plt.show()\n"
   ]
  },
  {
   "cell_type": "markdown",
   "id": "f1900c81-2738-456c-a3f4-1d826bb83de1",
   "metadata": {},
   "source": [
    "<h2 style ='color:red'>Accidents by Weather Condition</h2>"
   ]
  },
  {
   "cell_type": "code",
   "execution_count": 165,
   "id": "abf133ab-af73-4711-bd6c-9f7ca16af973",
   "metadata": {},
   "outputs": [
    {
     "name": "stderr",
     "output_type": "stream",
     "text": [
      "/var/folders/ns/q63dsy4s19d_cq3rdfz20pbw0000gn/T/ipykernel_30698/2139480855.py:3: FutureWarning: \n",
      "\n",
      "Passing `palette` without assigning `hue` is deprecated and will be removed in v0.14.0. Assign the `y` variable to `hue` and set `legend=False` for the same effect.\n",
      "\n",
      "  sns.countplot(data=df_accident[df_accident['Weather_Condition'].isin(top_weather)],\n"
     ]
    },
    {
     "data": {
      "image/png": "[encoded data removed]",
      "text/plain": [
       "<Figure size 1200x600 with 1 Axes>"
      ]
     },
     "metadata": {},
     "output_type": "display_data"
    }
   ],
   "source": [
    "plt.figure(figsize=(12,6))\n",
    "top_weather = df_accident['Weather_Condition'].value_counts().nlargest(10).index\n",
    "sns.countplot(data=df_accident[df_accident['Weather_Condition'].isin(top_weather)],\n",
    "              y='Weather_Condition', order=top_weather, palette='viridis')\n",
    "plt.title('Top 10 Weather Conditions in Accidents')\n",
    "plt.xlabel('Number of Accidents')\n",
    "plt.ylabel('Weather Condition')\n",
    "plt.show()\n"
   ]
  },
  {
   "cell_type": "code",
   "execution_count": 167,
   "id": "ce2e1eb3-74cc-4fd0-8c0b-0dd35d5f15e9",
   "metadata": {},
   "outputs": [
    {
     "data": {
      "text/plain": [
       "Severity             0\n",
       "Start_Time           0\n",
       "End_Time             0\n",
       "Start_Lat            0\n",
       "Start_Lng            0\n",
       "Distance(mi)         0\n",
       "County               0\n",
       "Timezone             0\n",
       "Temperature(F)       0\n",
       "Humidity(%)          0\n",
       "Visibility(mi)       0\n",
       "Wind_Direction       0\n",
       "Wind_Speed(mph)      0\n",
       "Precipitation(in)    0\n",
       "Weather_Condition    0\n",
       "Traffic_Signal       0\n",
       "Year                 0\n",
       "Month                0\n",
       "Hour                 0\n",
       "Weekday              0\n",
       "dtype: int64"
      ]
     },
     "execution_count": 167,
     "metadata": {},
     "output_type": "execute_result"
    }
   ],
   "source": [
    "df_accident.isnull().sum()"
   ]
  },
  {
   "cell_type": "markdown",
   "id": "7ae9b440-c8ab-4fa9-8957-5df96c035a94",
   "metadata": {},
   "source": [
    "<h2 style ='color:red'>Accident impact count wrt to severity</h2>"
   ]
  },
  {
   "cell_type": "code",
   "execution_count": 171,
   "id": "27e60f8e-a0b3-4631-8e26-8df3c8b34cfe",
   "metadata": {},
   "outputs": [
    {
     "name": "stderr",
     "output_type": "stream",
     "text": [
      "/var/folders/ns/q63dsy4s19d_cq3rdfz20pbw0000gn/T/ipykernel_30698/35257237.py:6: FutureWarning: \n",
      "\n",
      "Passing `palette` without assigning `hue` is deprecated and will be removed in v0.14.0. Assign the `x` variable to `hue` and set `legend=False` for the same effect.\n",
      "\n",
      "  sns.countplot(x='Severity', data=df_accident, palette='coolwarm')\n"
     ]
    },
    {
     "data": {
      "image/png": "[encoded data removed]",
      "text/plain": [
       "<Figure size 800x500 with 1 Axes>"
      ]
     },
     "metadata": {},
     "output_type": "display_data"
    }
   ],
   "source": [
    "# Set plot style\n",
    "plt.figure(figsize=(8, 5))\n",
    "sns.set_style(\"whitegrid\")\n",
    "\n",
    "# Count plot for Severity\n",
    "sns.countplot(x='Severity', data=df_accident, palette='coolwarm')\n",
    "\n",
    "# Add labels and title\n",
    "plt.title(\"Count of Accidents by Severity Level\", fontsize=14)\n",
    "plt.xlabel(\"Severity Level\")\n",
    "plt.ylabel(\"Number of Accidents\")\n",
    "\n",
    "# Show exact counts on top of bars\n",
    "for p in plt.gca().patches:\n",
    "    plt.gca().annotate(format(p.get_height(), ','), \n",
    "                       (p.get_x() + p.get_width() / 2., p.get_height()), \n",
    "                       ha = 'center', va = 'center', fontsize=10,\n",
    "                       xytext = (0, 10), textcoords = 'offset points')\n",
    "\n",
    "plt.tight_layout()\n",
    "plt.show()\n"
   ]
  }
 ],
 "metadata": {
  "kernelspec": {
   "display_name": "Python [conda env:base] *",
   "language": "python",
   "name": "conda-base-py"
  },
  "language_info": {
   "codemirror_mode": {
    "name": "ipython",
    "version": 3
   },
   "file_extension": ".py",
   "mimetype": "text/x-python",
   "name": "python",
   "nbconvert_exporter": "python",
   "pygments_lexer": "ipython3",
   "version": "3.12.4"
  }
 },
 "nbformat": 4,
 "nbformat_minor": 5
}
